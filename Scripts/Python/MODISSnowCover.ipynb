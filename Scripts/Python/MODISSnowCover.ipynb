{
 "cells": [
  {
   "cell_type": "code",
   "execution_count": 67,
   "metadata": {},
   "outputs": [
    {
     "data": {
      "text/html": [
       "\n",
       "            <style>\n",
       "                .geemap-dark {\n",
       "                    --jp-widgets-color: white;\n",
       "                    --jp-widgets-label-color: white;\n",
       "                    --jp-ui-font-color1: white;\n",
       "                    --jp-layout-color2: #454545;\n",
       "                    background-color: #383838;\n",
       "                }\n",
       "\n",
       "                .geemap-dark .jupyter-button {\n",
       "                    --jp-layout-color3: #383838;\n",
       "                }\n",
       "\n",
       "                .geemap-colab {\n",
       "                    background-color: var(--colab-primary-surface-color, white);\n",
       "                }\n",
       "\n",
       "                .geemap-colab .jupyter-button {\n",
       "                    --jp-layout-color3: var(--colab-primary-surface-color, white);\n",
       "                }\n",
       "            </style>\n",
       "            "
      ],
      "text/plain": [
       "<IPython.core.display.HTML object>"
      ]
     },
     "metadata": {},
     "output_type": "display_data"
    }
   ],
   "source": [
    "import ee\n",
    "import geopandas as gpd\n",
    "import geemap\n",
    "import os\n",
    "import numpy as np\n",
    "import planetary_computer\n",
    "import pystac_client"
   ]
  },
  {
   "cell_type": "code",
   "execution_count": 49,
   "metadata": {},
   "outputs": [
    {
     "data": {
      "text/html": [
       "\n",
       "            <style>\n",
       "                .geemap-dark {\n",
       "                    --jp-widgets-color: white;\n",
       "                    --jp-widgets-label-color: white;\n",
       "                    --jp-ui-font-color1: white;\n",
       "                    --jp-layout-color2: #454545;\n",
       "                    background-color: #383838;\n",
       "                }\n",
       "\n",
       "                .geemap-dark .jupyter-button {\n",
       "                    --jp-layout-color3: #383838;\n",
       "                }\n",
       "\n",
       "                .geemap-colab {\n",
       "                    background-color: var(--colab-primary-surface-color, white);\n",
       "                }\n",
       "\n",
       "                .geemap-colab .jupyter-button {\n",
       "                    --jp-layout-color3: var(--colab-primary-surface-color, white);\n",
       "                }\n",
       "            </style>\n",
       "            "
      ],
      "text/plain": [
       "<IPython.core.display.HTML object>"
      ]
     },
     "metadata": {},
     "output_type": "display_data"
    },
    {
     "data": {
      "text/plain": [
       "True"
      ]
     },
     "execution_count": 49,
     "metadata": {},
     "output_type": "execute_result"
    }
   ],
   "source": [
    "ee.Authenticate()"
   ]
  },
  {
   "cell_type": "code",
   "execution_count": 50,
   "metadata": {},
   "outputs": [
    {
     "data": {
      "text/html": [
       "\n",
       "            <style>\n",
       "                .geemap-dark {\n",
       "                    --jp-widgets-color: white;\n",
       "                    --jp-widgets-label-color: white;\n",
       "                    --jp-ui-font-color1: white;\n",
       "                    --jp-layout-color2: #454545;\n",
       "                    background-color: #383838;\n",
       "                }\n",
       "\n",
       "                .geemap-dark .jupyter-button {\n",
       "                    --jp-layout-color3: #383838;\n",
       "                }\n",
       "\n",
       "                .geemap-colab {\n",
       "                    background-color: var(--colab-primary-surface-color, white);\n",
       "                }\n",
       "\n",
       "                .geemap-colab .jupyter-button {\n",
       "                    --jp-layout-color3: var(--colab-primary-surface-color, white);\n",
       "                }\n",
       "            </style>\n",
       "            "
      ],
      "text/plain": [
       "<IPython.core.display.HTML object>"
      ]
     },
     "metadata": {},
     "output_type": "display_data"
    }
   ],
   "source": [
    "ee.Initialize()"
   ]
  },
  {
   "cell_type": "code",
   "execution_count": 51,
   "metadata": {},
   "outputs": [
    {
     "data": {
      "text/html": [
       "\n",
       "            <style>\n",
       "                .geemap-dark {\n",
       "                    --jp-widgets-color: white;\n",
       "                    --jp-widgets-label-color: white;\n",
       "                    --jp-ui-font-color1: white;\n",
       "                    --jp-layout-color2: #454545;\n",
       "                    background-color: #383838;\n",
       "                }\n",
       "\n",
       "                .geemap-dark .jupyter-button {\n",
       "                    --jp-layout-color3: #383838;\n",
       "                }\n",
       "\n",
       "                .geemap-colab {\n",
       "                    background-color: var(--colab-primary-surface-color, white);\n",
       "                }\n",
       "\n",
       "                .geemap-colab .jupyter-button {\n",
       "                    --jp-layout-color3: var(--colab-primary-surface-color, white);\n",
       "                }\n",
       "            </style>\n",
       "            "
      ],
      "text/plain": [
       "<IPython.core.display.HTML object>"
      ]
     },
     "metadata": {},
     "output_type": "display_data"
    },
    {
     "data": {
      "text/plain": [
       "array([-124.73317094,   31.33217161,  -97.84214992,   49.00249394])"
      ]
     },
     "execution_count": 51,
     "metadata": {},
     "output_type": "execute_result"
    }
   ],
   "source": [
    "### reading in U.S. Boundary\n",
    "## saved as geopackage\n",
    "CONUS = gpd.read_file(\"/Volumes/LaCie/SnowRepresentativenessThesis/Data/L3_Ecoregions_USB/CONUS/CONUS_AOI.gpkg\")\n",
    "CONUS = CONUS.to_crs(\"EPSG:4326\")\n",
    "CONUS.total_bounds"
   ]
  },
  {
   "cell_type": "code",
   "execution_count": 52,
   "metadata": {},
   "outputs": [
    {
     "data": {
      "text/html": [
       "\n",
       "            <style>\n",
       "                .geemap-dark {\n",
       "                    --jp-widgets-color: white;\n",
       "                    --jp-widgets-label-color: white;\n",
       "                    --jp-ui-font-color1: white;\n",
       "                    --jp-layout-color2: #454545;\n",
       "                    background-color: #383838;\n",
       "                }\n",
       "\n",
       "                .geemap-dark .jupyter-button {\n",
       "                    --jp-layout-color3: #383838;\n",
       "                }\n",
       "\n",
       "                .geemap-colab {\n",
       "                    background-color: var(--colab-primary-surface-color, white);\n",
       "                }\n",
       "\n",
       "                .geemap-colab .jupyter-button {\n",
       "                    --jp-layout-color3: var(--colab-primary-surface-color, white);\n",
       "                }\n",
       "            </style>\n",
       "            "
      ],
      "text/plain": [
       "<IPython.core.display.HTML object>"
      ]
     },
     "metadata": {},
     "output_type": "display_data"
    }
   ],
   "source": [
    "### Construct a polygon from a list of x,y coordinate pairs defining a boundary.\n",
    "polygonCoordList = ee.Geometry.Polygon(\n",
    "  [-124.8, 49.1,  -124.8, 31.2, -97.7, 31.2, -97.7, 49.1]\n",
    ")"
   ]
  },
  {
   "cell_type": "code",
   "execution_count": null,
   "metadata": {},
   "outputs": [
    {
     "data": {
      "text/html": [
       "\n",
       "            <style>\n",
       "                .geemap-dark {\n",
       "                    --jp-widgets-color: white;\n",
       "                    --jp-widgets-label-color: white;\n",
       "                    --jp-ui-font-color1: white;\n",
       "                    --jp-layout-color2: #454545;\n",
       "                    background-color: #383838;\n",
       "                }\n",
       "\n",
       "                .geemap-dark .jupyter-button {\n",
       "                    --jp-layout-color3: #383838;\n",
       "                }\n",
       "\n",
       "                .geemap-colab {\n",
       "                    background-color: var(--colab-primary-surface-color, white);\n",
       "                }\n",
       "\n",
       "                .geemap-colab .jupyter-button {\n",
       "                    --jp-layout-color3: var(--colab-primary-surface-color, white);\n",
       "                }\n",
       "            </style>\n",
       "            "
      ],
      "text/plain": [
       "<IPython.core.display.HTML object>"
      ]
     },
     "metadata": {},
     "output_type": "display_data"
    }
   ],
   "source": [
    "### initializing map\n",
    "M = geemap.Map()\n",
    "M.setCenter(-110, 40)"
   ]
  },
  {
   "cell_type": "code",
   "execution_count": 54,
   "metadata": {},
   "outputs": [
    {
     "data": {
      "text/html": [
       "\n",
       "            <style>\n",
       "                .geemap-dark {\n",
       "                    --jp-widgets-color: white;\n",
       "                    --jp-widgets-label-color: white;\n",
       "                    --jp-ui-font-color1: white;\n",
       "                    --jp-layout-color2: #454545;\n",
       "                    background-color: #383838;\n",
       "                }\n",
       "\n",
       "                .geemap-dark .jupyter-button {\n",
       "                    --jp-layout-color3: #383838;\n",
       "                }\n",
       "\n",
       "                .geemap-colab {\n",
       "                    background-color: var(--colab-primary-surface-color, white);\n",
       "                }\n",
       "\n",
       "                .geemap-colab .jupyter-button {\n",
       "                    --jp-layout-color3: var(--colab-primary-surface-color, white);\n",
       "                }\n",
       "            </style>\n",
       "            "
      ],
      "text/plain": [
       "<IPython.core.display.HTML object>"
      ]
     },
     "metadata": {},
     "output_type": "display_data"
    }
   ],
   "source": [
    "### loading dataset\n",
    "US_States = ee.FeatureCollection('TIGER/2016/States')\n",
    "Collection = ee.ImageCollection('MODIS/061/MOD10A1')\n",
    "Dataset = Collection.select('NDSI_Snow_Cover') \\\n",
    ".filterBounds(ee.Geometry.Polygon([-124.8, 49.1,  -124.8, 31.2, -97.7, 31.2, -97.7, 49.1])) \\\n",
    ".filterDate('1992-09-01', '2020-10-31') \\\n",
    ".filter(ee.Filter.calendarRange(12, 2,'month'))"
   ]
  },
  {
   "cell_type": "code",
   "execution_count": 55,
   "metadata": {},
   "outputs": [
    {
     "data": {
      "text/html": [
       "\n",
       "            <style>\n",
       "                .geemap-dark {\n",
       "                    --jp-widgets-color: white;\n",
       "                    --jp-widgets-label-color: white;\n",
       "                    --jp-ui-font-color1: white;\n",
       "                    --jp-layout-color2: #454545;\n",
       "                    background-color: #383838;\n",
       "                }\n",
       "\n",
       "                .geemap-dark .jupyter-button {\n",
       "                    --jp-layout-color3: #383838;\n",
       "                }\n",
       "\n",
       "                .geemap-colab {\n",
       "                    background-color: var(--colab-primary-surface-color, white);\n",
       "                }\n",
       "\n",
       "                .geemap-colab .jupyter-button {\n",
       "                    --jp-layout-color3: var(--colab-primary-surface-color, white);\n",
       "                }\n",
       "            </style>\n",
       "            "
      ],
      "text/plain": [
       "<IPython.core.display.HTML object>"
      ]
     },
     "metadata": {},
     "output_type": "display_data"
    }
   ],
   "source": [
    "SnowCoverMean = Dataset.reduce(ee.Reducer.mean())"
   ]
  },
  {
   "cell_type": "code",
   "execution_count": 56,
   "metadata": {},
   "outputs": [
    {
     "data": {
      "text/html": [
       "\n",
       "            <style>\n",
       "                .geemap-dark {\n",
       "                    --jp-widgets-color: white;\n",
       "                    --jp-widgets-label-color: white;\n",
       "                    --jp-ui-font-color1: white;\n",
       "                    --jp-layout-color2: #454545;\n",
       "                    background-color: #383838;\n",
       "                }\n",
       "\n",
       "                .geemap-dark .jupyter-button {\n",
       "                    --jp-layout-color3: #383838;\n",
       "                }\n",
       "\n",
       "                .geemap-colab {\n",
       "                    background-color: var(--colab-primary-surface-color, white);\n",
       "                }\n",
       "\n",
       "                .geemap-colab .jupyter-button {\n",
       "                    --jp-layout-color3: var(--colab-primary-surface-color, white);\n",
       "                }\n",
       "            </style>\n",
       "            "
      ],
      "text/plain": [
       "<IPython.core.display.HTML object>"
      ]
     },
     "metadata": {},
     "output_type": "display_data"
    }
   ],
   "source": [
    "SnowCoverMeanCONUS = SnowCoverMean.clip(ee.Geometry.Polygon([-128, 55,  -128, 25, -90, 25, -90, 55]))"
   ]
  },
  {
   "cell_type": "code",
   "execution_count": 57,
   "metadata": {},
   "outputs": [
    {
     "data": {
      "text/html": [
       "\n",
       "            <style>\n",
       "                .geemap-dark {\n",
       "                    --jp-widgets-color: white;\n",
       "                    --jp-widgets-label-color: white;\n",
       "                    --jp-ui-font-color1: white;\n",
       "                    --jp-layout-color2: #454545;\n",
       "                    background-color: #383838;\n",
       "                }\n",
       "\n",
       "                .geemap-dark .jupyter-button {\n",
       "                    --jp-layout-color3: #383838;\n",
       "                }\n",
       "\n",
       "                .geemap-colab {\n",
       "                    background-color: var(--colab-primary-surface-color, white);\n",
       "                }\n",
       "\n",
       "                .geemap-colab .jupyter-button {\n",
       "                    --jp-layout-color3: var(--colab-primary-surface-color, white);\n",
       "                }\n",
       "            </style>\n",
       "            "
      ],
      "text/plain": [
       "<IPython.core.display.HTML object>"
      ]
     },
     "metadata": {},
     "output_type": "display_data"
    }
   ],
   "source": [
    "M.addLayer(SnowCoverMeanCONUS, {\"min\": 0, \"max\": 100, \"palette\": ['#440154', '#443983', '#31688e', '#21918c', '#35b779', '#90d743', '#fde725']}, name = \"Mean Snow Cover from 1992-2020\")\n"
   ]
  },
  {
   "cell_type": "code",
   "execution_count": 58,
   "metadata": {},
   "outputs": [
    {
     "data": {
      "text/html": [
       "\n",
       "            <style>\n",
       "                .geemap-dark {\n",
       "                    --jp-widgets-color: white;\n",
       "                    --jp-widgets-label-color: white;\n",
       "                    --jp-ui-font-color1: white;\n",
       "                    --jp-layout-color2: #454545;\n",
       "                    background-color: #383838;\n",
       "                }\n",
       "\n",
       "                .geemap-dark .jupyter-button {\n",
       "                    --jp-layout-color3: #383838;\n",
       "                }\n",
       "\n",
       "                .geemap-colab {\n",
       "                    background-color: var(--colab-primary-surface-color, white);\n",
       "                }\n",
       "\n",
       "                .geemap-colab .jupyter-button {\n",
       "                    --jp-layout-color3: var(--colab-primary-surface-color, white);\n",
       "                }\n",
       "            </style>\n",
       "            "
      ],
      "text/plain": [
       "<IPython.core.display.HTML object>"
      ]
     },
     "metadata": {},
     "output_type": "display_data"
    },
    {
     "data": {
      "application/vnd.jupyter.widget-view+json": {
       "model_id": "1e0b016f6f9942f2aff7c3b1efa83061",
       "version_major": 2,
       "version_minor": 0
      },
      "text/plain": [
       "Map(center=[0, 0], controls=(WidgetControl(options=['position', 'transparent_bg'], widget=SearchDataGUI(childr…"
      ]
     },
     "execution_count": 58,
     "metadata": {},
     "output_type": "execute_result"
    }
   ],
   "source": [
    "M"
   ]
  },
  {
   "cell_type": "code",
   "execution_count": 59,
   "metadata": {},
   "outputs": [
    {
     "data": {
      "text/html": [
       "\n",
       "            <style>\n",
       "                .geemap-dark {\n",
       "                    --jp-widgets-color: white;\n",
       "                    --jp-widgets-label-color: white;\n",
       "                    --jp-ui-font-color1: white;\n",
       "                    --jp-layout-color2: #454545;\n",
       "                    background-color: #383838;\n",
       "                }\n",
       "\n",
       "                .geemap-dark .jupyter-button {\n",
       "                    --jp-layout-color3: #383838;\n",
       "                }\n",
       "\n",
       "                .geemap-colab {\n",
       "                    background-color: var(--colab-primary-surface-color, white);\n",
       "                }\n",
       "\n",
       "                .geemap-colab .jupyter-button {\n",
       "                    --jp-layout-color3: var(--colab-primary-surface-color, white);\n",
       "                }\n",
       "            </style>\n",
       "            "
      ],
      "text/plain": [
       "<IPython.core.display.HTML object>"
      ]
     },
     "metadata": {},
     "output_type": "display_data"
    }
   ],
   "source": [
    "### setting file path\n",
    "filepath = \"/Volumes/LaCie/SnowRepresentativenessThesis/Data/MODISSnowCover\"\n",
    "\n",
    "\n",
    "lon_seq = np.arange(-128, -90)\n",
    "lat_seq = np.arange(25, 55)"
   ]
  },
  {
   "cell_type": "markdown",
   "metadata": {},
   "source": [
    "for i in range(min(lon_seq), max(lon_seq)):\n",
    "    for x in range(max(lat_seq) + 1, min(lat_seq)):\n",
    "        temp_bbox = ee.Geometry.Polygon([i, x, i, x - 1, i + 1, x -1, i + 1, x])\n",
    "        geemap.download_ee_image(SnowCoverMeanCONUS, filename = os.path.join(filepath, f\"MODISSnowCoverClimatology_{i}_{x}.tif\"), crs = \"EPSG:4326\", region = temp_bbox, scale = 500)"
   ]
  },
  {
   "cell_type": "markdown",
   "metadata": {},
   "source": [
    "\n",
    "### setting different bounding boxes so hopefully the downloads are faster\n",
    "polygonCoordList1 = ee.Geometry.Polygon([-128, 55,  -128, 47.5, -118.5, 47.5, -118.5, 55])\n",
    "polygonCoordList2 = ee.Geometry.Polygon([-118.5, 55,  -118.5, 47.5, -109, 47.5, -109, 55])\n",
    "polygonCoordList3 = ee.Geometry.Polygon([-109, 55,  -109, 47.5, -99.5, 47.5, -99.5, 55])\n",
    "polygonCoordList4 = ee.Geometry.Polygon([-99.5, 55,  -99.5, 47.5, -90, 47.5, -90, 55])\n",
    "polygonCoordList5 = ee.Geometry.Polygon([-128, 47.5,  -128, 40, -118.5, 40, -118.5, 47.5])\n",
    "polygonCoordList6 = ee.Geometry.Polygon([-118.5, 47.5,  -118.5, 40, -109, 40, -109, 47.5])\n",
    "polygonCoordList7 = ee.Geometry.Polygon([-109, 47.5,  -109, 40, -99.5, 40, -99.5, 47.5])\n",
    "polygonCoordList8 = ee.Geometry.Polygon([-99.5, 47.5,  -99.5, 40, -90, 40, -90, 47.5])\n",
    "polygonCoordList9 = ee.Geometry.Polygon([-128, 40,  -128, 32.5, -118.5, 32.5, -118.5, 40])\n",
    "polygonCoordList10 = ee.Geometry.Polygon([-118.5, 40,  -118.5, 32.5, -109, 32.5, -109, 40])\n",
    "polygonCoordList11 = ee.Geometry.Polygon([-109, 40,  -109, 32.5, -99.5, 32.5, -99.5, 40])\n",
    "polygonCoordList12 = ee.Geometry.Polygon([-99.5, 40,  -99.5, 32.5, -90, 32.5, -90, 40])\n",
    "polygonCoordList13 = ee.Geometry.Polygon([-128, 32.5,  -128, 25, -118.5, 25, -118.5, 32.5])\n",
    "polygonCoordList14 = ee.Geometry.Polygon([-118.5, 32.5,  -118.5, 25, -109, 25, -109, 32.5])\n",
    "polygonCoordList15 = ee.Geometry.Polygon([-109, 32.5,  -109, 25, -99.5, 25, -99.5, 32.5])\n",
    "polygonCoordList16 = ee.Geometry.Polygon([-99.5, 32.5,  -99.5, 25, -90, 25, -90, 32.5])\n",
    "### clipping image\n",
    "SnowCoverMeanCONUS1 = SnowCoverMeanCONUS.clip(polygonCoordList1)\n",
    "SnowCoverMeanCONUS2 = SnowCoverMeanCONUS.clip(polygonCoordList2)\n",
    "SnowCoverMeanCONUS3 = SnowCoverMeanCONUS.clip(polygonCoordList3)\n",
    "SnowCoverMeanCONUS4 = SnowCoverMeanCONUS.clip(polygonCoordList4)\n",
    "SnowCoverMeanCONUS5 = SnowCoverMeanCONUS.clip(polygonCoordList5)\n",
    "SnowCoverMeanCONUS6 = SnowCoverMeanCONUS.clip(polygonCoordList6)\n",
    "SnowCoverMeanCONUS7 = SnowCoverMeanCONUS.clip(polygonCoordList7)\n",
    "SnowCoverMeanCONUS8 = SnowCoverMeanCONUS.clip(polygonCoordList8)\n",
    "SnowCoverMeanCONUS9 = SnowCoverMeanCONUS.clip(polygonCoordList9)\n",
    "SnowCoverMeanCONUS10 = SnowCoverMeanCONUS.clip(polygonCoordList10)\n",
    "SnowCoverMeanCONUS11 = SnowCoverMeanCONUS.clip(polygonCoordList11)\n",
    "SnowCoverMeanCONUS12 = SnowCoverMeanCONUS.clip(polygonCoordList12)\n",
    "SnowCoverMeanCONUS13 = SnowCoverMeanCONUS.clip(polygonCoordList13)\n",
    "SnowCoverMeanCONUS14 = SnowCoverMeanCONUS.clip(polygonCoordList14)\n",
    "SnowCoverMeanCONUS15 = SnowCoverMeanCONUS.clip(polygonCoordList15)\n",
    "SnowCoverMeanCONUS16 = SnowCoverMeanCONUS.clip(polygonCoordList16)\n",
    "### downloading images\n",
    "geemap.download_ee_image(SnowCoverMeanCONUS1, filename = os.path.join(filepath, \"MODISSnowCoverClimatology1.tif\"), crs = \"EPSG:4326\", region = polygonCoordList1, scale = 500)\n",
    "geemap.download_ee_image(SnowCoverMeanCONUS2, filename = os.path.join(filepath, \"MODISSnowCoverClimatology2.tif\"), crs = \"EPSG:4326\", region = polygonCoordList2, scale = 500)\n",
    "geemap.download_ee_image(SnowCoverMeanCONUS3, filename = os.path.join(filepath, \"MODISSnowCoverClimatology3.tif\"), crs = \"EPSG:4326\", region = polygonCoordList3, scale = 500)\n",
    "geemap.download_ee_image(SnowCoverMeanCONUS4, filename = os.path.join(filepath, \"MODISSnowCoverClimatology4.tif\"), crs = \"EPSG:4326\", region = polygonCoordList4, scale = 500)\n",
    "geemap.download_ee_image(SnowCoverMeanCONUS5, filename = os.path.join(filepath, \"MODISSnowCoverClimatology5.tif\"), crs = \"EPSG:4326\", region = polygonCoordList5, scale = 500)\n",
    "geemap.download_ee_image(SnowCoverMeanCONUS6, filename = os.path.join(filepath, \"MODISSnowCoverClimatology6.tif\"), crs = \"EPSG:4326\", region = polygonCoordList6, scale = 500)\n",
    "geemap.download_ee_image(SnowCoverMeanCONUS7, filename = os.path.join(filepath, \"MODISSnowCoverClimatology7.tif\"), crs = \"EPSG:4326\", region = polygonCoordList7, scale = 500)\n",
    "geemap.download_ee_image(SnowCoverMeanCONUS8, filename = os.path.join(filepath, \"MODISSnowCoverClimatology8.tif\"), crs = \"EPSG:4326\", region = polygonCoordList8, scale = 500)\n",
    "geemap.download_ee_image(SnowCoverMeanCONUS9, filename = os.path.join(filepath, \"MODISSnowCoverClimatology9.tif\"), crs = \"EPSG:4326\", region = polygonCoordList9, scale = 500)\n",
    "geemap.download_ee_image(SnowCoverMeanCONUS10, filename = os.path.join(filepath, \"MODISSnowCoverClimatology10.tif\"), crs = \"EPSG:4326\", region = polygonCoordList10, scale = 500)\n",
    "geemap.download_ee_image(SnowCoverMeanCONUS11, filename = os.path.join(filepath, \"MODISSnowCoverClimatology11.tif\"), crs = \"EPSG:4326\", region = polygonCoordList11, scale = 500)\n",
    "geemap.download_ee_image(SnowCoverMeanCONUS12, filename = os.path.join(filepath, \"MODISSnowCoverClimatology12.tif\"), crs = \"EPSG:4326\", region = polygonCoordList12, scale = 500)\n",
    "geemap.download_ee_image(SnowCoverMeanCONUS13, filename = os.path.join(filepath, \"MODISSnowCoverClimatology13.tif\"), crs = \"EPSG:4326\", region = polygonCoordList13, scale = 500)\n",
    "geemap.download_ee_image(SnowCoverMeanCONUS14, filename = os.path.join(filepath, \"MODISSnowCoverClimatology14.tif\"), crs = \"EPSG:4326\", region = polygonCoordList14, scale = 500)\n",
    "geemap.download_ee_image(SnowCoverMeanCONUS15, filename = os.path.join(filepath, \"MODISSnowCoverClimatology15.tif\"), crs = \"EPSG:4326\", region = polygonCoordList15, scale = 500)\n",
    "geemap.download_ee_image(SnowCoverMeanCONUS16, filename = os.path.join(filepath, \"MODISSnowCoverClimatology16.tif\"), crs = \"EPSG:4326\", region = polygonCoordList16, scale = 500)"
   ]
  },
  {
   "cell_type": "code",
   "execution_count": 68,
   "metadata": {},
   "outputs": [
    {
     "data": {
      "text/html": [
       "\n",
       "            <style>\n",
       "                .geemap-dark {\n",
       "                    --jp-widgets-color: white;\n",
       "                    --jp-widgets-label-color: white;\n",
       "                    --jp-ui-font-color1: white;\n",
       "                    --jp-layout-color2: #454545;\n",
       "                    background-color: #383838;\n",
       "                }\n",
       "\n",
       "                .geemap-dark .jupyter-button {\n",
       "                    --jp-layout-color3: #383838;\n",
       "                }\n",
       "\n",
       "                .geemap-colab {\n",
       "                    background-color: var(--colab-primary-surface-color, white);\n",
       "                }\n",
       "\n",
       "                .geemap-colab .jupyter-button {\n",
       "                    --jp-layout-color3: var(--colab-primary-surface-color, white);\n",
       "                }\n",
       "            </style>\n",
       "            "
      ],
      "text/plain": [
       "<IPython.core.display.HTML object>"
      ]
     },
     "metadata": {},
     "output_type": "display_data"
    }
   ],
   "source": [
    "catalog = pystac_client.Client.open(\n",
    "    \"https://planetarycomputer.microsoft.com/api/stac/v1\",\n",
    "    modifier=planetary_computer.sign_inplace,\n",
    ")"
   ]
  },
  {
   "cell_type": "code",
   "execution_count": null,
   "metadata": {},
   "outputs": [],
   "source": [
    "datetimes = [\n",
    "    \"2000-12\",\n",
    "    \"2001-01\",\n",
    "    \"2001-02\",\n",
    "    \"2001-12\",\n",
    "    \"2002-01\",\n",
    "    \"2002-02\",\n",
    "    \"2021-05\",\n",
    "    \"2021-06\",\n",
    "]\n",
    "items = dict()"
   ]
  }
 ],
 "metadata": {
  "kernelspec": {
   "display_name": "snowthesis",
   "language": "python",
   "name": "python3"
  },
  "language_info": {
   "codemirror_mode": {
    "name": "ipython",
    "version": 3
   },
   "file_extension": ".py",
   "mimetype": "text/x-python",
   "name": "python",
   "nbconvert_exporter": "python",
   "pygments_lexer": "ipython3",
   "version": "3.12.4"
  }
 },
 "nbformat": 4,
 "nbformat_minor": 2
}
